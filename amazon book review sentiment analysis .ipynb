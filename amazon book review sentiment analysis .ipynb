{
 "cells": [
  {
   "cell_type": "code",
   "execution_count": 1,
   "id": "6f8b9dbd",
   "metadata": {
    "scrolled": true
   },
   "outputs": [
    {
     "name": "stdout",
     "output_type": "stream",
     "text": [
      "Requirement already satisfied: nltk in c:\\users\\aishwarya\\anaconda2\\lib\\site-packages (3.7)\n",
      "Requirement already satisfied: spacy in c:\\users\\aishwarya\\anaconda2\\lib\\site-packages (3.7.2)\n",
      "Requirement already satisfied: pandas in c:\\users\\aishwarya\\anaconda2\\lib\\site-packages (2.0.3)\n",
      "Requirement already satisfied: matplotlib in c:\\users\\aishwarya\\anaconda2\\lib\\site-packages (3.7.2)\n",
      "Requirement already satisfied: scikit-learn in c:\\users\\aishwarya\\anaconda2\\lib\\site-packages (1.3.0)\n",
      "Requirement already satisfied: click in c:\\users\\aishwarya\\anaconda2\\lib\\site-packages (from nltk) (8.0.4)\n",
      "Requirement already satisfied: joblib in c:\\users\\aishwarya\\anaconda2\\lib\\site-packages (from nltk) (1.2.0)\n",
      "Requirement already satisfied: regex>=2021.8.3 in c:\\users\\aishwarya\\anaconda2\\lib\\site-packages (from nltk) (2022.7.9)\n",
      "Requirement already satisfied: tqdm in c:\\users\\aishwarya\\anaconda2\\lib\\site-packages (from nltk) (4.65.0)\n",
      "Requirement already satisfied: spacy-legacy<3.1.0,>=3.0.11 in c:\\users\\aishwarya\\anaconda2\\lib\\site-packages (from spacy) (3.0.12)\n",
      "Requirement already satisfied: spacy-loggers<2.0.0,>=1.0.0 in c:\\users\\aishwarya\\anaconda2\\lib\\site-packages (from spacy) (1.0.5)\n",
      "Requirement already satisfied: murmurhash<1.1.0,>=0.28.0 in c:\\users\\aishwarya\\anaconda2\\lib\\site-packages (from spacy) (1.0.10)\n",
      "Requirement already satisfied: cymem<2.1.0,>=2.0.2 in c:\\users\\aishwarya\\anaconda2\\lib\\site-packages (from spacy) (2.0.8)\n",
      "Requirement already satisfied: preshed<3.1.0,>=3.0.2 in c:\\users\\aishwarya\\anaconda2\\lib\\site-packages (from spacy) (3.0.9)\n",
      "Requirement already satisfied: thinc<8.3.0,>=8.1.8 in c:\\users\\aishwarya\\anaconda2\\lib\\site-packages (from spacy) (8.2.1)\n",
      "Requirement already satisfied: wasabi<1.2.0,>=0.9.1 in c:\\users\\aishwarya\\anaconda2\\lib\\site-packages (from spacy) (1.1.2)\n",
      "Requirement already satisfied: srsly<3.0.0,>=2.4.3 in c:\\users\\aishwarya\\anaconda2\\lib\\site-packages (from spacy) (2.4.8)\n",
      "Requirement already satisfied: catalogue<2.1.0,>=2.0.6 in c:\\users\\aishwarya\\anaconda2\\lib\\site-packages (from spacy) (2.0.10)\n",
      "Requirement already satisfied: weasel<0.4.0,>=0.1.0 in c:\\users\\aishwarya\\anaconda2\\lib\\site-packages (from spacy) (0.3.4)\n",
      "Requirement already satisfied: typer<0.10.0,>=0.3.0 in c:\\users\\aishwarya\\anaconda2\\lib\\site-packages (from spacy) (0.9.0)\n",
      "Requirement already satisfied: smart-open<7.0.0,>=5.2.1 in c:\\users\\aishwarya\\anaconda2\\lib\\site-packages (from spacy) (5.2.1)\n",
      "Requirement already satisfied: requests<3.0.0,>=2.13.0 in c:\\users\\aishwarya\\anaconda2\\lib\\site-packages (from spacy) (2.29.0)\n",
      "Requirement already satisfied: pydantic!=1.8,!=1.8.1,<3.0.0,>=1.7.4 in c:\\users\\aishwarya\\anaconda2\\lib\\site-packages (from spacy) (2.5.2)\n",
      "Requirement already satisfied: jinja2 in c:\\users\\aishwarya\\anaconda2\\lib\\site-packages (from spacy) (3.1.2)\n",
      "Requirement already satisfied: setuptools in c:\\users\\aishwarya\\anaconda2\\lib\\site-packages (from spacy) (67.8.0)\n",
      "Requirement already satisfied: packaging>=20.0 in c:\\users\\aishwarya\\anaconda2\\lib\\site-packages (from spacy) (23.0)\n",
      "Requirement already satisfied: langcodes<4.0.0,>=3.2.0 in c:\\users\\aishwarya\\anaconda2\\lib\\site-packages (from spacy) (3.3.0)\n",
      "Requirement already satisfied: numpy>=1.19.0 in c:\\users\\aishwarya\\anaconda2\\lib\\site-packages (from spacy) (1.25.1)\n",
      "Requirement already satisfied: python-dateutil>=2.8.2 in c:\\users\\aishwarya\\anaconda2\\lib\\site-packages (from pandas) (2.8.2)\n",
      "Requirement already satisfied: pytz>=2020.1 in c:\\users\\aishwarya\\anaconda2\\lib\\site-packages (from pandas) (2022.7)\n",
      "Requirement already satisfied: tzdata>=2022.1 in c:\\users\\aishwarya\\anaconda2\\lib\\site-packages (from pandas) (2023.3)\n",
      "Requirement already satisfied: contourpy>=1.0.1 in c:\\users\\aishwarya\\anaconda2\\lib\\site-packages (from matplotlib) (1.0.5)\n",
      "Requirement already satisfied: cycler>=0.10 in c:\\users\\aishwarya\\anaconda2\\lib\\site-packages (from matplotlib) (0.11.0)\n",
      "Requirement already satisfied: fonttools>=4.22.0 in c:\\users\\aishwarya\\anaconda2\\lib\\site-packages (from matplotlib) (4.25.0)\n",
      "Requirement already satisfied: kiwisolver>=1.0.1 in c:\\users\\aishwarya\\anaconda2\\lib\\site-packages (from matplotlib) (1.4.4)\n",
      "Requirement already satisfied: pillow>=6.2.0 in c:\\users\\aishwarya\\anaconda2\\lib\\site-packages (from matplotlib) (9.4.0)\n",
      "Requirement already satisfied: pyparsing<3.1,>=2.3.1 in c:\\users\\aishwarya\\anaconda2\\lib\\site-packages (from matplotlib) (3.0.9)\n",
      "Requirement already satisfied: scipy>=1.5.0 in c:\\users\\aishwarya\\anaconda2\\lib\\site-packages (from scikit-learn) (1.11.1)\n",
      "Requirement already satisfied: threadpoolctl>=2.0.0 in c:\\users\\aishwarya\\anaconda2\\lib\\site-packages (from scikit-learn) (2.2.0)\n",
      "Requirement already satisfied: annotated-types>=0.4.0 in c:\\users\\aishwarya\\anaconda2\\lib\\site-packages (from pydantic!=1.8,!=1.8.1,<3.0.0,>=1.7.4->spacy) (0.6.0)\n",
      "Requirement already satisfied: pydantic-core==2.14.5 in c:\\users\\aishwarya\\anaconda2\\lib\\site-packages (from pydantic!=1.8,!=1.8.1,<3.0.0,>=1.7.4->spacy) (2.14.5)\n",
      "Requirement already satisfied: typing-extensions>=4.6.1 in c:\\users\\aishwarya\\anaconda2\\lib\\site-packages (from pydantic!=1.8,!=1.8.1,<3.0.0,>=1.7.4->spacy) (4.8.0)\n",
      "Requirement already satisfied: six>=1.5 in c:\\users\\aishwarya\\anaconda2\\lib\\site-packages (from python-dateutil>=2.8.2->pandas) (1.16.0)\n",
      "Requirement already satisfied: charset-normalizer<4,>=2 in c:\\users\\aishwarya\\anaconda2\\lib\\site-packages (from requests<3.0.0,>=2.13.0->spacy) (2.0.4)\n",
      "Requirement already satisfied: idna<4,>=2.5 in c:\\users\\aishwarya\\anaconda2\\lib\\site-packages (from requests<3.0.0,>=2.13.0->spacy) (3.4)\n",
      "Requirement already satisfied: urllib3<1.27,>=1.21.1 in c:\\users\\aishwarya\\anaconda2\\lib\\site-packages (from requests<3.0.0,>=2.13.0->spacy) (1.26.16)\n",
      "Requirement already satisfied: certifi>=2017.4.17 in c:\\users\\aishwarya\\anaconda2\\lib\\site-packages (from requests<3.0.0,>=2.13.0->spacy) (2023.5.7)\n",
      "Requirement already satisfied: blis<0.8.0,>=0.7.8 in c:\\users\\aishwarya\\anaconda2\\lib\\site-packages (from thinc<8.3.0,>=8.1.8->spacy) (0.7.11)\n",
      "Requirement already satisfied: confection<1.0.0,>=0.0.1 in c:\\users\\aishwarya\\anaconda2\\lib\\site-packages (from thinc<8.3.0,>=8.1.8->spacy) (0.1.4)\n",
      "Requirement already satisfied: colorama in c:\\users\\aishwarya\\anaconda2\\lib\\site-packages (from tqdm->nltk) (0.4.6)\n",
      "Requirement already satisfied: cloudpathlib<0.17.0,>=0.7.0 in c:\\users\\aishwarya\\anaconda2\\lib\\site-packages (from weasel<0.4.0,>=0.1.0->spacy) (0.16.0)\n",
      "Requirement already satisfied: MarkupSafe>=2.0 in c:\\users\\aishwarya\\anaconda2\\lib\\site-packages (from jinja2->spacy) (2.1.1)\n",
      "Note: you may need to restart the kernel to use updated packages.\n"
     ]
    }
   ],
   "source": [
    "pip install nltk spacy pandas matplotlib scikit-learn\n"
   ]
  },
  {
   "cell_type": "code",
   "execution_count": 1,
   "id": "bec30eb0",
   "metadata": {},
   "outputs": [
    {
     "name": "stdout",
     "output_type": "stream",
     "text": [
      "Requirement already satisfied: nltk in c:\\users\\aishwarya\\anaconda2\\lib\\site-packages (3.7)\n",
      "Requirement already satisfied: click in c:\\users\\aishwarya\\anaconda2\\lib\\site-packages (from nltk) (8.0.4)\n",
      "Requirement already satisfied: joblib in c:\\users\\aishwarya\\anaconda2\\lib\\site-packages (from nltk) (1.2.0)\n",
      "Requirement already satisfied: regex>=2021.8.3 in c:\\users\\aishwarya\\anaconda2\\lib\\site-packages (from nltk) (2022.7.9)\n",
      "Requirement already satisfied: tqdm in c:\\users\\aishwarya\\anaconda2\\lib\\site-packages (from nltk) (4.65.0)\n",
      "Requirement already satisfied: colorama in c:\\users\\aishwarya\\anaconda2\\lib\\site-packages (from click->nltk) (0.4.6)\n"
     ]
    }
   ],
   "source": [
    "!pip install nltk"
   ]
  },
  {
   "cell_type": "code",
   "execution_count": 3,
   "id": "a0208d00",
   "metadata": {},
   "outputs": [],
   "source": [
    "import nltk"
   ]
  },
  {
   "cell_type": "code",
   "execution_count": 4,
   "id": "e2ead776",
   "metadata": {},
   "outputs": [
    {
     "name": "stdout",
     "output_type": "stream",
     "text": [
      "showing info https://raw.githubusercontent.com/nltk/nltk_data/gh-pages/index.xml\n"
     ]
    },
    {
     "data": {
      "text/plain": [
       "True"
      ]
     },
     "execution_count": 4,
     "metadata": {},
     "output_type": "execute_result"
    }
   ],
   "source": [
    "nltk.download()"
   ]
  },
  {
   "cell_type": "code",
   "execution_count": 28,
   "id": "c13fb02c",
   "metadata": {},
   "outputs": [],
   "source": [
    "import pandas as pd\n",
    "import nltk\n",
    "from nltk.tokenize import word_tokenize\n",
    "from nltk.corpus import stopwords\n",
    "from nltk.sentiment.vader import SentimentIntensityAnalyzer\n",
    "from sklearn.feature_extraction.text import CountVectorizer\n",
    "from sklearn.decomposition import LatentDirichletAllocation\n",
    "\n",
    "\n",
    "# Set NLTK data path\n",
    "nltk.data.path.append('path_to_nltk_data_directory')\n",
    "\n"
   ]
  },
  {
   "cell_type": "code",
   "execution_count": 29,
   "id": "4068757a",
   "metadata": {},
   "outputs": [
    {
     "name": "stdout",
     "output_type": "stream",
     "text": [
      "   Sno        book name                                       review title  \\\n",
      "0    0  The Woman in Me   Unbelievably impressive. Her torn life on paper.   \n",
      "1    1  The Woman in Me                         What a heartbreaking story   \n",
      "2    2  The Woman in Me  Britney you are so invincible! You are an insp...   \n",
      "3    3  The Woman in Me                               Fast Read, Sad Story   \n",
      "4    4  The Woman in Me                       Buy it, it’s worth the read!   \n",
      "\n",
      "           reviewer  reviewer rating  \\\n",
      "0  Murderess Marbie                4   \n",
      "1               L J                5   \n",
      "2             Jamie                5   \n",
      "3               KMG                5   \n",
      "4   Stephanie Brown                5   \n",
      "\n",
      "                                  review description  is_verified        date  \\\n",
      "0  I'm only a third way in. Shipped lightening fa...         True  26-10-2023   \n",
      "1  \"There have been so many times when I was scar...         True  06-11-2023   \n",
      "2  The media could not be loaded. I personally ha...         True  01-11-2023   \n",
      "3  I have been a fan of Britney's music since the...         True  25-10-2023   \n",
      "4  Whether or not you’re a fan, it’s a great read...         True  01-11-2023   \n",
      "\n",
      "                                        timestamp        ASIN  \n",
      "0  Reviewed in the United States October 26, 2023  1668009048  \n",
      "1  Reviewed in the United States November 6, 2023  1668009048  \n",
      "2  Reviewed in the United States November 1, 2023  1668009048  \n",
      "3  Reviewed in the United States October 25, 2023  1668009048  \n",
      "4  Reviewed in the United States November 1, 2023  1668009048  \n"
     ]
    }
   ],
   "source": [
    "\n",
    "\n",
    "# Load the dataset\n",
    "data = pd.read_csv(r'C:\\Users\\aishwarya\\OneDrive\\Desktop\\Data Science\\ML\\Virtual_Vigilantes\\customer reviews.csv')\n",
    "\n",
    "# Display the first few rows to understand the structure\n",
    "print(data.head())\n"
   ]
  },
  {
   "cell_type": "code",
   "execution_count": 30,
   "id": "c7c6dd2d",
   "metadata": {},
   "outputs": [],
   "source": [
    "\n",
    "\n",
    "# Text preprocessing function\n",
    "def preprocess_text(text):\n",
    "    # Convert to lowercase\n",
    "    text = text.lower()\n",
    "    # Tokenization\n",
    "    tokens = word_tokenize(text)\n",
    "    # Remove stopwords\n",
    "    stop_words = set(stopwords.words('english'))\n",
    "    tokens = [word for word in tokens if word not in stop_words]\n",
    "    return tokens\n",
    "\n",
    "# Apply preprocessing to your dataset\n",
    "data['cleaned_text'] = data['review title'].apply(preprocess_text)\n"
   ]
  },
  {
   "cell_type": "code",
   "execution_count": 22,
   "id": "4015c9b3",
   "metadata": {},
   "outputs": [
    {
     "name": "stdout",
     "output_type": "stream",
     "text": [
      "Collecting en-core-web-sm==3.7.1\n",
      "  Downloading https://github.com/explosion/spacy-models/releases/download/en_core_web_sm-3.7.1/en_core_web_sm-3.7.1-py3-none-any.whl (12.8 MB)\n",
      "                                              0.0/12.8 MB ? eta -:--:--\n",
      "                                              0.0/12.8 MB ? eta -:--:--\n",
      "                                             0.0/12.8 MB 330.3 kB/s eta 0:00:39\n",
      "                                             0.1/12.8 MB 409.6 kB/s eta 0:00:32\n",
      "                                             0.1/12.8 MB 438.1 kB/s eta 0:00:30\n",
      "                                             0.1/12.8 MB 516.7 kB/s eta 0:00:25\n",
      "                                             0.2/12.8 MB 583.1 kB/s eta 0:00:22\n",
      "                                             0.3/12.8 MB 811.7 kB/s eta 0:00:16\n",
      "     -                                       0.3/12.8 MB 912.8 kB/s eta 0:00:14\n",
      "     -                                        0.4/12.8 MB 1.0 MB/s eta 0:00:13\n",
      "     -                                        0.5/12.8 MB 1.0 MB/s eta 0:00:12\n",
      "     -                                        0.6/12.8 MB 1.2 MB/s eta 0:00:11\n",
      "     -                                        0.6/12.8 MB 1.2 MB/s eta 0:00:11\n",
      "     --                                       0.7/12.8 MB 1.2 MB/s eta 0:00:11\n",
      "     --                                       0.8/12.8 MB 1.2 MB/s eta 0:00:11\n",
      "     --                                       0.8/12.8 MB 1.2 MB/s eta 0:00:10\n",
      "     --                                       0.9/12.8 MB 1.3 MB/s eta 0:00:10\n",
      "     ---                                      1.0/12.8 MB 1.3 MB/s eta 0:00:10\n",
      "     ---                                      1.2/12.8 MB 1.4 MB/s eta 0:00:09\n",
      "     ---                                      1.2/12.8 MB 1.3 MB/s eta 0:00:09\n",
      "     ---                                      1.3/12.8 MB 1.4 MB/s eta 0:00:09\n",
      "     ----                                     1.4/12.8 MB 1.4 MB/s eta 0:00:09\n",
      "     ----                                     1.4/12.8 MB 1.4 MB/s eta 0:00:08\n",
      "     ----                                     1.5/12.8 MB 1.4 MB/s eta 0:00:08\n",
      "     -----                                    1.6/12.8 MB 1.5 MB/s eta 0:00:08\n",
      "     -----                                    1.7/12.8 MB 1.5 MB/s eta 0:00:08\n",
      "     -----                                    1.8/12.8 MB 1.5 MB/s eta 0:00:08\n",
      "     ------                                   2.0/12.8 MB 1.6 MB/s eta 0:00:07\n",
      "     ------                                   2.0/12.8 MB 1.5 MB/s eta 0:00:07\n",
      "     ------                                   2.2/12.8 MB 1.6 MB/s eta 0:00:07\n",
      "     -------                                  2.3/12.8 MB 1.6 MB/s eta 0:00:07\n",
      "     -------                                  2.4/12.8 MB 1.6 MB/s eta 0:00:07\n",
      "     -------                                  2.4/12.8 MB 1.6 MB/s eta 0:00:07\n",
      "     --------                                 2.6/12.8 MB 1.7 MB/s eta 0:00:06\n",
      "     --------                                 2.7/12.8 MB 1.7 MB/s eta 0:00:06\n",
      "     ---------                                2.9/12.8 MB 1.8 MB/s eta 0:00:06\n",
      "     ---------                                3.0/12.8 MB 1.8 MB/s eta 0:00:06\n",
      "     ---------                                3.0/12.8 MB 1.8 MB/s eta 0:00:06\n",
      "     ---------                                3.2/12.8 MB 1.8 MB/s eta 0:00:06\n",
      "     ----------                               3.4/12.8 MB 1.9 MB/s eta 0:00:06\n",
      "     ----------                               3.5/12.8 MB 1.9 MB/s eta 0:00:05\n",
      "     -----------                              3.7/12.8 MB 1.9 MB/s eta 0:00:05\n",
      "     -----------                              3.8/12.8 MB 1.9 MB/s eta 0:00:05\n",
      "     ------------                             3.9/12.8 MB 1.9 MB/s eta 0:00:05\n",
      "     ------------                             4.0/12.8 MB 1.9 MB/s eta 0:00:05\n",
      "     -------------                            4.2/12.8 MB 2.0 MB/s eta 0:00:05\n",
      "     -------------                            4.2/12.8 MB 2.0 MB/s eta 0:00:05\n",
      "     -------------                            4.4/12.8 MB 2.0 MB/s eta 0:00:05\n",
      "     --------------                           4.6/12.8 MB 2.0 MB/s eta 0:00:05\n",
      "     ---------------                          4.8/12.8 MB 2.1 MB/s eta 0:00:04\n",
      "     ---------------                          5.0/12.8 MB 2.2 MB/s eta 0:00:04\n",
      "     ----------------                         5.2/12.8 MB 2.2 MB/s eta 0:00:04\n",
      "     ----------------                         5.3/12.8 MB 2.2 MB/s eta 0:00:04\n",
      "     ----------------                         5.4/12.8 MB 2.2 MB/s eta 0:00:04\n",
      "     -----------------                        5.7/12.8 MB 2.3 MB/s eta 0:00:04\n",
      "     ------------------                       5.9/12.8 MB 2.3 MB/s eta 0:00:03\n",
      "     -------------------                      6.1/12.8 MB 2.4 MB/s eta 0:00:03\n",
      "     -------------------                      6.3/12.8 MB 2.4 MB/s eta 0:00:03\n",
      "     --------------------                     6.5/12.8 MB 2.4 MB/s eta 0:00:03\n",
      "     --------------------                     6.5/12.8 MB 2.4 MB/s eta 0:00:03\n",
      "     ---------------------                    6.8/12.8 MB 2.4 MB/s eta 0:00:03\n",
      "     ---------------------                    7.0/12.8 MB 2.5 MB/s eta 0:00:03\n",
      "     ----------------------                   7.2/12.8 MB 2.5 MB/s eta 0:00:03\n",
      "     -----------------------                  7.4/12.8 MB 2.5 MB/s eta 0:00:03\n",
      "     -----------------------                  7.6/12.8 MB 2.6 MB/s eta 0:00:03\n",
      "     ------------------------                 7.9/12.8 MB 2.6 MB/s eta 0:00:02\n",
      "     -------------------------                8.1/12.8 MB 2.6 MB/s eta 0:00:02\n",
      "     -------------------------                8.3/12.8 MB 2.7 MB/s eta 0:00:02\n",
      "     --------------------------               8.6/12.8 MB 2.7 MB/s eta 0:00:02\n",
      "     ---------------------------              8.8/12.8 MB 2.7 MB/s eta 0:00:02\n",
      "     ----------------------------             9.1/12.8 MB 2.8 MB/s eta 0:00:02\n",
      "     -----------------------------            9.3/12.8 MB 2.8 MB/s eta 0:00:02\n",
      "     ------------------------------           9.7/12.8 MB 2.9 MB/s eta 0:00:02\n",
      "     ------------------------------           9.8/12.8 MB 2.9 MB/s eta 0:00:02\n",
      "     ------------------------------           9.8/12.8 MB 2.9 MB/s eta 0:00:02\n",
      "     --------------------------------         10.3/12.8 MB 2.9 MB/s eta 0:00:01\n",
      "     --------------------------------         10.3/12.8 MB 3.1 MB/s eta 0:00:01\n",
      "     --------------------------------         10.5/12.8 MB 3.1 MB/s eta 0:00:01\n",
      "     ---------------------------------        10.7/12.8 MB 3.2 MB/s eta 0:00:01\n",
      "     ----------------------------------       10.9/12.8 MB 3.3 MB/s eta 0:00:01\n",
      "     ----------------------------------       11.2/12.8 MB 3.4 MB/s eta 0:00:01\n",
      "     -----------------------------------      11.5/12.8 MB 3.6 MB/s eta 0:00:01\n",
      "     ------------------------------------     11.8/12.8 MB 3.7 MB/s eta 0:00:01\n",
      "     -------------------------------------    12.1/12.8 MB 3.9 MB/s eta 0:00:01\n",
      "     --------------------------------------   12.3/12.8 MB 4.0 MB/s eta 0:00:01\n",
      "     ---------------------------------------  12.7/12.8 MB 4.2 MB/s eta 0:00:01\n",
      "     ---------------------------------------  12.8/12.8 MB 4.2 MB/s eta 0:00:01\n",
      "     ---------------------------------------  12.8/12.8 MB 4.2 MB/s eta 0:00:01\n",
      "     ---------------------------------------- 12.8/12.8 MB 4.0 MB/s eta 0:00:00\n",
      "Requirement already satisfied: spacy<3.8.0,>=3.7.2 in c:\\users\\aishwarya\\anaconda2\\lib\\site-packages (from en-core-web-sm==3.7.1) (3.7.2)\n",
      "Requirement already satisfied: spacy-legacy<3.1.0,>=3.0.11 in c:\\users\\aishwarya\\anaconda2\\lib\\site-packages (from spacy<3.8.0,>=3.7.2->en-core-web-sm==3.7.1) (3.0.12)\n",
      "Requirement already satisfied: spacy-loggers<2.0.0,>=1.0.0 in c:\\users\\aishwarya\\anaconda2\\lib\\site-packages (from spacy<3.8.0,>=3.7.2->en-core-web-sm==3.7.1) (1.0.5)\n",
      "Requirement already satisfied: murmurhash<1.1.0,>=0.28.0 in c:\\users\\aishwarya\\anaconda2\\lib\\site-packages (from spacy<3.8.0,>=3.7.2->en-core-web-sm==3.7.1) (1.0.10)\n",
      "Requirement already satisfied: cymem<2.1.0,>=2.0.2 in c:\\users\\aishwarya\\anaconda2\\lib\\site-packages (from spacy<3.8.0,>=3.7.2->en-core-web-sm==3.7.1) (2.0.8)\n",
      "Requirement already satisfied: preshed<3.1.0,>=3.0.2 in c:\\users\\aishwarya\\anaconda2\\lib\\site-packages (from spacy<3.8.0,>=3.7.2->en-core-web-sm==3.7.1) (3.0.9)\n",
      "Requirement already satisfied: thinc<8.3.0,>=8.1.8 in c:\\users\\aishwarya\\anaconda2\\lib\\site-packages (from spacy<3.8.0,>=3.7.2->en-core-web-sm==3.7.1) (8.2.1)\n",
      "Requirement already satisfied: wasabi<1.2.0,>=0.9.1 in c:\\users\\aishwarya\\anaconda2\\lib\\site-packages (from spacy<3.8.0,>=3.7.2->en-core-web-sm==3.7.1) (1.1.2)\n",
      "Requirement already satisfied: srsly<3.0.0,>=2.4.3 in c:\\users\\aishwarya\\anaconda2\\lib\\site-packages (from spacy<3.8.0,>=3.7.2->en-core-web-sm==3.7.1) (2.4.8)\n",
      "Requirement already satisfied: catalogue<2.1.0,>=2.0.6 in c:\\users\\aishwarya\\anaconda2\\lib\\site-packages (from spacy<3.8.0,>=3.7.2->en-core-web-sm==3.7.1) (2.0.10)\n",
      "Requirement already satisfied: weasel<0.4.0,>=0.1.0 in c:\\users\\aishwarya\\anaconda2\\lib\\site-packages (from spacy<3.8.0,>=3.7.2->en-core-web-sm==3.7.1) (0.3.4)\n",
      "Requirement already satisfied: typer<0.10.0,>=0.3.0 in c:\\users\\aishwarya\\anaconda2\\lib\\site-packages (from spacy<3.8.0,>=3.7.2->en-core-web-sm==3.7.1) (0.9.0)\n",
      "Requirement already satisfied: smart-open<7.0.0,>=5.2.1 in c:\\users\\aishwarya\\anaconda2\\lib\\site-packages (from spacy<3.8.0,>=3.7.2->en-core-web-sm==3.7.1) (5.2.1)\n",
      "Requirement already satisfied: tqdm<5.0.0,>=4.38.0 in c:\\users\\aishwarya\\anaconda2\\lib\\site-packages (from spacy<3.8.0,>=3.7.2->en-core-web-sm==3.7.1) (4.65.0)\n",
      "Requirement already satisfied: requests<3.0.0,>=2.13.0 in c:\\users\\aishwarya\\anaconda2\\lib\\site-packages (from spacy<3.8.0,>=3.7.2->en-core-web-sm==3.7.1) (2.29.0)\n",
      "Requirement already satisfied: pydantic!=1.8,!=1.8.1,<3.0.0,>=1.7.4 in c:\\users\\aishwarya\\anaconda2\\lib\\site-packages (from spacy<3.8.0,>=3.7.2->en-core-web-sm==3.7.1) (2.5.2)\n",
      "Requirement already satisfied: jinja2 in c:\\users\\aishwarya\\anaconda2\\lib\\site-packages (from spacy<3.8.0,>=3.7.2->en-core-web-sm==3.7.1) (3.1.2)\n",
      "Requirement already satisfied: setuptools in c:\\users\\aishwarya\\anaconda2\\lib\\site-packages (from spacy<3.8.0,>=3.7.2->en-core-web-sm==3.7.1) (67.8.0)\n",
      "Requirement already satisfied: packaging>=20.0 in c:\\users\\aishwarya\\anaconda2\\lib\\site-packages (from spacy<3.8.0,>=3.7.2->en-core-web-sm==3.7.1) (23.0)\n",
      "Requirement already satisfied: langcodes<4.0.0,>=3.2.0 in c:\\users\\aishwarya\\anaconda2\\lib\\site-packages (from spacy<3.8.0,>=3.7.2->en-core-web-sm==3.7.1) (3.3.0)\n",
      "Requirement already satisfied: numpy>=1.19.0 in c:\\users\\aishwarya\\anaconda2\\lib\\site-packages (from spacy<3.8.0,>=3.7.2->en-core-web-sm==3.7.1) (1.25.1)\n",
      "Requirement already satisfied: annotated-types>=0.4.0 in c:\\users\\aishwarya\\anaconda2\\lib\\site-packages (from pydantic!=1.8,!=1.8.1,<3.0.0,>=1.7.4->spacy<3.8.0,>=3.7.2->en-core-web-sm==3.7.1) (0.6.0)\n",
      "Requirement already satisfied: pydantic-core==2.14.5 in c:\\users\\aishwarya\\anaconda2\\lib\\site-packages (from pydantic!=1.8,!=1.8.1,<3.0.0,>=1.7.4->spacy<3.8.0,>=3.7.2->en-core-web-sm==3.7.1) (2.14.5)\n",
      "Requirement already satisfied: typing-extensions>=4.6.1 in c:\\users\\aishwarya\\anaconda2\\lib\\site-packages (from pydantic!=1.8,!=1.8.1,<3.0.0,>=1.7.4->spacy<3.8.0,>=3.7.2->en-core-web-sm==3.7.1) (4.8.0)\n",
      "Requirement already satisfied: charset-normalizer<4,>=2 in c:\\users\\aishwarya\\anaconda2\\lib\\site-packages (from requests<3.0.0,>=2.13.0->spacy<3.8.0,>=3.7.2->en-core-web-sm==3.7.1) (2.0.4)\n",
      "Requirement already satisfied: idna<4,>=2.5 in c:\\users\\aishwarya\\anaconda2\\lib\\site-packages (from requests<3.0.0,>=2.13.0->spacy<3.8.0,>=3.7.2->en-core-web-sm==3.7.1) (3.4)\n",
      "Requirement already satisfied: urllib3<1.27,>=1.21.1 in c:\\users\\aishwarya\\anaconda2\\lib\\site-packages (from requests<3.0.0,>=2.13.0->spacy<3.8.0,>=3.7.2->en-core-web-sm==3.7.1) (1.26.16)\n",
      "Requirement already satisfied: certifi>=2017.4.17 in c:\\users\\aishwarya\\anaconda2\\lib\\site-packages (from requests<3.0.0,>=2.13.0->spacy<3.8.0,>=3.7.2->en-core-web-sm==3.7.1) (2023.5.7)\n",
      "Requirement already satisfied: blis<0.8.0,>=0.7.8 in c:\\users\\aishwarya\\anaconda2\\lib\\site-packages (from thinc<8.3.0,>=8.1.8->spacy<3.8.0,>=3.7.2->en-core-web-sm==3.7.1) (0.7.11)\n",
      "Requirement already satisfied: confection<1.0.0,>=0.0.1 in c:\\users\\aishwarya\\anaconda2\\lib\\site-packages (from thinc<8.3.0,>=8.1.8->spacy<3.8.0,>=3.7.2->en-core-web-sm==3.7.1) (0.1.4)\n",
      "Requirement already satisfied: colorama in c:\\users\\aishwarya\\anaconda2\\lib\\site-packages (from tqdm<5.0.0,>=4.38.0->spacy<3.8.0,>=3.7.2->en-core-web-sm==3.7.1) (0.4.6)\n",
      "Requirement already satisfied: click<9.0.0,>=7.1.1 in c:\\users\\aishwarya\\anaconda2\\lib\\site-packages (from typer<0.10.0,>=0.3.0->spacy<3.8.0,>=3.7.2->en-core-web-sm==3.7.1) (8.0.4)\n",
      "Requirement already satisfied: cloudpathlib<0.17.0,>=0.7.0 in c:\\users\\aishwarya\\anaconda2\\lib\\site-packages (from weasel<0.4.0,>=0.1.0->spacy<3.8.0,>=3.7.2->en-core-web-sm==3.7.1) (0.16.0)\n",
      "Requirement already satisfied: MarkupSafe>=2.0 in c:\\users\\aishwarya\\anaconda2\\lib\\site-packages (from jinja2->spacy<3.8.0,>=3.7.2->en-core-web-sm==3.7.1) (2.1.1)\n",
      "\u001b[38;5;2m[+] Download and installation successful\u001b[0m\n",
      "You can now load the package via spacy.load('en_core_web_sm')\n"
     ]
    }
   ],
   "source": [
    "!python -m spacy download en_core_web_sm\n"
   ]
  },
  {
   "cell_type": "code",
   "execution_count": 31,
   "id": "1a275786",
   "metadata": {},
   "outputs": [],
   "source": [
    "import spacy\n",
    "\n",
    "# Load the 'en_core_web_sm' model\n",
    "nlp = spacy.load('en_core_web_sm')\n",
    "\n",
    "# Text preprocessing function\n",
    "def preprocess_text_spacy(text):\n",
    "    doc = nlp(text)\n",
    "    tokens = [token.text.lower() for token in doc if not token.is_stop and not token.is_punct]\n",
    "    return tokens\n",
    "\n",
    "# Apply preprocessing to your dataset\n",
    "data['cleaned_text_spacy'] = data['review title'].apply(preprocess_text_spacy)"
   ]
  },
  {
   "cell_type": "code",
   "execution_count": 32,
   "id": "f592d1dc",
   "metadata": {},
   "outputs": [
    {
     "name": "stdout",
     "output_type": "stream",
     "text": [
      "                                        review title  \\\n",
      "0   Unbelievably impressive. Her torn life on paper.   \n",
      "1                         What a heartbreaking story   \n",
      "2  Britney you are so invincible! You are an insp...   \n",
      "3                               Fast Read, Sad Story   \n",
      "4                       Buy it, it’s worth the read!   \n",
      "\n",
      "                                    sentiment_scores  \n",
      "0  {'neg': 0.209, 'neu': 0.461, 'pos': 0.331, 'co...  \n",
      "1  {'neg': 0.6, 'neu': 0.4, 'pos': 0.0, 'compound...  \n",
      "2  {'neg': 0.0, 'neu': 0.445, 'pos': 0.555, 'comp...  \n",
      "3  {'neg': 0.508, 'neu': 0.492, 'pos': 0.0, 'comp...  \n",
      "4  {'neg': 0.0, 'neu': 0.695, 'pos': 0.305, 'comp...  \n"
     ]
    }
   ],
   "source": [
    "# Initialize the VADER sentiment analyzer\n",
    "sid = SentimentIntensityAnalyzer()\n",
    "\n",
    "# Calculate sentiment scores\n",
    "data['sentiment_scores'] = data['review title'].apply(lambda x: sid.polarity_scores(x))\n",
    "\n",
    "# Display the first few rows to check the sentiment scores\n",
    "print(data[['review title', 'sentiment_scores']].head())"
   ]
  },
  {
   "cell_type": "code",
   "execution_count": 34,
   "id": "b3f3e322",
   "metadata": {},
   "outputs": [
    {
     "name": "stdout",
     "output_type": "stream",
     "text": [
      "Topic #0\n",
      "['book', 'my', 'it', 'this', 'fun', 'the', 'favorite', 'loved', 'beautiful', 'and']\n",
      "Topic #1\n",
      "['of', 'gift', 'to', 'one', 'the', 'and', 'sweet', 'good', 'excellent', 'what']\n",
      "Topic #2\n",
      "['cute', 'book', 'the', 'of', 'and', 'story', 'in', 'but', 'little', 'you']\n",
      "Topic #3\n",
      "['great', 'for', 'book', 'the', 'of', 'to', 'and', 'story', 'good', 'but']\n",
      "Topic #4\n",
      "['read', 'love', 'book', 'this', 'it', 'and', 'to', 'the', 'is', 'you']\n"
     ]
    }
   ],
   "source": [
    "# Vectorize the text data\n",
    "vectorizer = CountVectorizer()\n",
    "X = vectorizer.fit_transform(data['review title'])\n",
    "\n",
    "# Apply LDA\n",
    "lda = LatentDirichletAllocation(n_components=5, random_state=42)\n",
    "lda.fit(X)\n",
    "\n",
    "# Display the top words for each topic\n",
    "def display_topics(model, feature_names, n_top_words):\n",
    "    for topic_idx, topic in enumerate(model.components_):\n",
    "        print(f\"Topic #{topic_idx}\")\n",
    "        print([feature_names[i] for i in topic.argsort()[:-n_top_words - 1:-1]])\n",
    "\n",
    "n_top_words = 10  # Number of top words to display for each topic\n",
    "feature_names = vectorizer.get_feature_names_out()\n",
    "\n",
    "# Print the top words for each topic\n",
    "display_topics(lda, feature_names, n_top_words)"
   ]
  },
  {
   "cell_type": "code",
   "execution_count": 35,
   "id": "5d3426f8",
   "metadata": {},
   "outputs": [
    {
     "data": {
      "text/plain": [
       "<Axes: >"
      ]
     },
     "execution_count": 35,
     "metadata": {},
     "output_type": "execute_result"
    },
    {
     "data": {
      "image/png": "[encoded data removed]",
      "text/plain": [
       "<Figure size 640x480 with 1 Axes>"
      ]
     },
     "metadata": {},
     "output_type": "display_data"
    }
   ],
   "source": [
    "# Visualize sentiment distribution\n",
    "data['sentiment_scores'].apply(lambda x: x['compound']).hist()\n",
    "\n",
    "# Plot topic distribution\n",
    "# (This would depend on how you store and organize the topic modeling results)\n"
   ]
  },
  {
   "cell_type": "code",
   "execution_count": null,
   "id": "4db98e94",
   "metadata": {},
   "outputs": [],
   "source": []
  }
 ],
 "metadata": {
  "kernelspec": {
   "display_name": "Python 3 (ipykernel)",
   "language": "python",
   "name": "python3"
  },
  "language_info": {
   "codemirror_mode": {
    "name": "ipython",
    "version": 3
   },
   "file_extension": ".py",
   "mimetype": "text/x-python",
   "name": "python",
   "nbconvert_exporter": "python",
   "pygments_lexer": "ipython3",
   "version": "3.11.3"
  }
 },
 "nbformat": 4,
 "nbformat_minor": 5
}
